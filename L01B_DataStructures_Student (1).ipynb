{
  "cells": [
    {
      "cell_type": "markdown",
      "id": "cb152498",
      "metadata": {
        "id": "cb152498"
      },
      "source": [
        "# DSE I1020 — Data Structures & NumPy (60‑min practicum)\n",
        "*Live, guided coding — City College of New York, DSE I1020*\n",
        "\n",
        "**Session length:** 60 minutes  \n",
        "**Run in:** Google Colab (or local Jupyter)  \n",
        "**Generated:** 2025-09-08 20:19\n",
        "\n",
        "**References**\n",
        "- *Scipy Lecture Notes*\n",
        "- *Python Data Science Handbook* (Jake VanderPlas)\n",
        "- *Elements of Data Science* (Allen Downey)"
      ]
    },
    {
      "cell_type": "markdown",
      "id": "6c264ce1",
      "metadata": {
        "id": "6c264ce1"
      },
      "source": [
        "## 0–5 min — Orientation\n",
        "**Instruction:** Create a simple Python list and demonstrate basic indexing.\n",
        "- Make `a = [1, 2, 3]`\n",
        "- Print the first and last elements\n",
        "- Explain in a comment what 0-based indexing means."
      ]
    },
    {
      "cell_type": "code",
      "execution_count": 27,
      "id": "39ae4c56",
      "metadata": {
        "colab": {
          "base_uri": "https://localhost:8080/"
        },
        "id": "39ae4c56",
        "outputId": "460b57d7-6f42-4951-cbf6-4eb425de1c4a"
      },
      "outputs": [
        {
          "output_type": "stream",
          "name": "stdout",
          "text": [
            "1\n",
            "3\n"
          ]
        }
      ],
      "source": [
        "a=[1,2,3]\n",
        "print(a[0])\n",
        "print(a[len(a)-1])"
      ]
    },
    {
      "cell_type": "markdown",
      "id": "447575d7",
      "metadata": {
        "id": "447575d7"
      },
      "source": [
        "## 5–15 min — Arrays via Python Lists\n",
        "**Instruction:** Using `a = [5.3, 2.1, 6.9, 4.2, 7.7]`, perform:\n",
        "1) indexed access, 2) update an element, 3) append items, 4) delete from middle,\n",
        "5) insert at arbitrary position. Print after each step."
      ]
    },
    {
      "cell_type": "code",
      "execution_count": 28,
      "id": "7334cdeb",
      "metadata": {
        "colab": {
          "base_uri": "https://localhost:8080/"
        },
        "id": "7334cdeb",
        "outputId": "46caa9f6-4d45-47d7-87ec-b53abd6368c2"
      },
      "outputs": [
        {
          "output_type": "execute_result",
          "data": {
            "text/plain": [
              "[1, 2, 3, 99, 4, 5]"
            ]
          },
          "metadata": {},
          "execution_count": 28
        }
      ],
      "source": [
        "\n",
        "b=[1,2,3,4,5]\n",
        "c= b[:3] + [99] +b [3:]\n",
        "c\n"
      ]
    },
    {
      "cell_type": "markdown",
      "id": "c5c5ffa0",
      "metadata": {
        "id": "c5c5ffa0"
      },
      "source": [
        "**Instruction:** Show three insertion strategies to place `99` before `4` in `b = [1,2,3,4,5]`:\n",
        "(a) `insert`, (b) slice assignment, (c) concatenation."
      ]
    },
    {
      "cell_type": "code",
      "execution_count": 29,
      "id": "483dea65",
      "metadata": {
        "colab": {
          "base_uri": "https://localhost:8080/"
        },
        "id": "483dea65",
        "outputId": "08021a55-b438-47fc-f4cc-e626cb83e686"
      },
      "outputs": [
        {
          "output_type": "execute_result",
          "data": {
            "text/plain": [
              "[1, 2, 3, 99, 4, 5]"
            ]
          },
          "metadata": {},
          "execution_count": 29
        }
      ],
      "source": [
        "b.insert(3,99)\n",
        "b"
      ]
    },
    {
      "cell_type": "code",
      "source": [],
      "metadata": {
        "id": "i1UxAiSYL4dX"
      },
      "id": "i1UxAiSYL4dX",
      "execution_count": 29,
      "outputs": []
    },
    {
      "cell_type": "code",
      "source": [
        "b=[1,2,3,4,5]\n",
        "c=[0,0,0,0,0,0]\n",
        "c[0:3]=b[:3]\n",
        "c[3] =99\n",
        "c[4:6] =[4,5]\n",
        "c\n"
      ],
      "metadata": {
        "colab": {
          "base_uri": "https://localhost:8080/"
        },
        "id": "frbuo8SAmDQA",
        "outputId": "6332dcab-e839-47b0-81e1-f1d19d55e13c"
      },
      "id": "frbuo8SAmDQA",
      "execution_count": 30,
      "outputs": [
        {
          "output_type": "execute_result",
          "data": {
            "text/plain": [
              "[1, 2, 3, 99, 4, 5]"
            ]
          },
          "metadata": {},
          "execution_count": 30
        }
      ]
    },
    {
      "cell_type": "markdown",
      "id": "243441e7",
      "metadata": {
        "id": "243441e7"
      },
      "source": [
        "## 15–25 min — Lists as Stack & Queue + Useful Methods\n",
        "**Instruction (Stack):** Use a list as a stack. Push 3 strings, peek the top, pop until empty.\n",
        "**Instruction (Methods):** On `data = [3,1,4,1,5,9,2,6,5]` show `count`, `index`, `remove`, `reverse`, `sort`.\n",
        "**Instruction (Queue):** Implement `enqueue(q,x)` inserting at front and `dequeue(q)` removing from back; demo with `'A','B','C'`."
      ]
    },
    {
      "cell_type": "code",
      "execution_count": 31,
      "id": "6e02c702",
      "metadata": {
        "colab": {
          "base_uri": "https://localhost:8080/"
        },
        "id": "6e02c702",
        "outputId": "872e8e6f-7ac8-4c88-9b56-3a767f37dd9c"
      },
      "outputs": [
        {
          "output_type": "execute_result",
          "data": {
            "text/plain": [
              "[99, 3, 1, 4, 1, 5, 9, 2, 6, 5]"
            ]
          },
          "metadata": {},
          "execution_count": 31
        }
      ],
      "source": [
        "data =[3,1,4,1,5,9,2,6,5]\n",
        "\n",
        "def enqueue(lst, element):\n",
        "  new_lst = []\n",
        "  new_lst= [element] + lst\n",
        "  return new_lst\n",
        "\n",
        "enqueue(data,99)"
      ]
    },
    {
      "cell_type": "markdown",
      "id": "41ee5cf8",
      "metadata": {
        "id": "41ee5cf8"
      },
      "source": [
        "## 25–35 min — Linked Lists (Nodes, HEAD/END, Traversal, Aliasing)\n",
        "**Instruction:** Implement a minimal singly linked list with `Node(val, next)`.\n",
        "- Create `head=None`; prepend 3 nodes; then append one node at tail.\n",
        "- Traverse and collect values.\n",
        "- Show aliasing: create `x = [1, [2, 3]]`; set `y = x`; mutate inner list and inspect `id(...)` values."
      ]
    },
    {
      "cell_type": "code",
      "execution_count": 31,
      "id": "bf61c938",
      "metadata": {
        "id": "bf61c938"
      },
      "outputs": [],
      "source": []
    },
    {
      "cell_type": "markdown",
      "id": "62756c92",
      "metadata": {
        "id": "62756c92"
      },
      "source": [
        "## 35–42 min — Key–Value Stores / Hash Tables (`dict`)\n",
        "**Instruction:** Create a small phone-book dict; add, update, and delete entries; show membership and safe access with `get()`."
      ]
    },
    {
      "cell_type": "code",
      "execution_count": 31,
      "id": "dcd60565",
      "metadata": {
        "id": "dcd60565"
      },
      "outputs": [],
      "source": []
    },
    {
      "cell_type": "markdown",
      "id": "2ba711b2",
      "metadata": {
        "id": "2ba711b2"
      },
      "source": [
        "## 42–50 min — Tabular Data as Dict‑of‑Lists\n",
        "**Instruction:** Build a dict-of-lists table, print columns and rows, and compute a derived column.\n",
        "- Create `students = {'name': [...], 'grade': [...], 'credits': [...]}`\n",
        "- Row 0 as a record; column access; add `quality_points = grade * credits`."
      ]
    },
    {
      "cell_type": "code",
      "execution_count": 31,
      "id": "df8d138e",
      "metadata": {
        "id": "df8d138e"
      },
      "outputs": [],
      "source": []
    },
    {
      "cell_type": "markdown",
      "id": "df1ef99e",
      "metadata": {
        "id": "df1ef99e"
      },
      "source": [
        "## 50–57 min — NumPy Arrays & Vectorization\n",
        "**Instruction:** Create arrays and inspect attributes; slice and do element‑wise operations.\n",
        "- `np.array`, `np.zeros`, `np.arange`\n",
        "- Show `.shape`, `.dtype`, `.ndim`\n",
        "- Demonstrate slicing and vectorized arithmetic"
      ]
    },
    {
      "cell_type": "code",
      "execution_count": 32,
      "id": "b2f4296f",
      "metadata": {
        "colab": {
          "base_uri": "https://localhost:8080/"
        },
        "id": "b2f4296f",
        "outputId": "c377bb59-3458-4815-e1a6-7beacabe338c"
      },
      "outputs": [
        {
          "output_type": "execute_result",
          "data": {
            "text/plain": [
              "array([1, 2, 3, 4, 5])"
            ]
          },
          "metadata": {},
          "execution_count": 32
        }
      ],
      "source": [
        "import numpy as np\n",
        "np_b=np.array(b)\n",
        "np_b\n"
      ]
    },
    {
      "cell_type": "code",
      "source": [
        "np_b.shape"
      ],
      "metadata": {
        "colab": {
          "base_uri": "https://localhost:8080/"
        },
        "id": "XayPoQTXnvmk",
        "outputId": "7c61a7f3-e176-4332-a0b9-36f2705e3e05"
      },
      "id": "XayPoQTXnvmk",
      "execution_count": 33,
      "outputs": [
        {
          "output_type": "execute_result",
          "data": {
            "text/plain": [
              "(5,)"
            ]
          },
          "metadata": {},
          "execution_count": 33
        }
      ]
    },
    {
      "cell_type": "code",
      "source": [
        "np_b.dtype"
      ],
      "metadata": {
        "colab": {
          "base_uri": "https://localhost:8080/"
        },
        "id": "bu8vKsmIn6ri",
        "outputId": "df41b9cd-daea-4994-8362-87d95486cb3b"
      },
      "id": "bu8vKsmIn6ri",
      "execution_count": 34,
      "outputs": [
        {
          "output_type": "execute_result",
          "data": {
            "text/plain": [
              "dtype('int64')"
            ]
          },
          "metadata": {},
          "execution_count": 34
        }
      ]
    },
    {
      "cell_type": "markdown",
      "id": "71537f7b",
      "metadata": {
        "id": "71537f7b"
      },
      "source": [
        "## 57–60 min — NumPy Broadcasting\n",
        "**Instruction:** Show scalar→array and vector→matrix broadcasting.\n",
        "- Add 5 to a vector\n",
        "- Add a column vector to a 2D matrix and verify result shapes"
      ]
    },
    {
      "cell_type": "code",
      "source": [
        "np_b+5"
      ],
      "metadata": {
        "colab": {
          "base_uri": "https://localhost:8080/"
        },
        "id": "unlR8y8pntji",
        "outputId": "0ed7cf11-abd1-427b-9d2a-b424b09d2d40"
      },
      "id": "unlR8y8pntji",
      "execution_count": 35,
      "outputs": [
        {
          "output_type": "execute_result",
          "data": {
            "text/plain": [
              "array([ 6,  7,  8,  9, 10])"
            ]
          },
          "metadata": {},
          "execution_count": 35
        }
      ]
    },
    {
      "cell_type": "code",
      "execution_count": 36,
      "id": "05ce83e7",
      "metadata": {
        "colab": {
          "base_uri": "https://localhost:8080/"
        },
        "id": "05ce83e7",
        "outputId": "f1a3c42c-a3e3-403a-a885-c712f31c9599"
      },
      "outputs": [
        {
          "output_type": "execute_result",
          "data": {
            "text/plain": [
              "array([1, 2, 3, 4, 5])"
            ]
          },
          "metadata": {},
          "execution_count": 36
        }
      ],
      "source": [
        "np_b.transpose()"
      ]
    },
    {
      "cell_type": "code",
      "source": [
        "np_c = np.array([[1,2,3,4,5]]).transpose()\n",
        "np_c.shape"
      ],
      "metadata": {
        "colab": {
          "base_uri": "https://localhost:8080/"
        },
        "id": "J15pmghAoMYO",
        "outputId": "5de63889-cf77-49f6-ae1f-a7947851be96"
      },
      "id": "J15pmghAoMYO",
      "execution_count": 37,
      "outputs": [
        {
          "output_type": "execute_result",
          "data": {
            "text/plain": [
              "(5, 1)"
            ]
          },
          "metadata": {},
          "execution_count": 37
        }
      ]
    },
    {
      "cell_type": "code",
      "source": [
        "np_d =np_b+np_c\n",
        "np_d\n",
        "\n"
      ],
      "metadata": {
        "id": "U2aYGBLyoULY",
        "colab": {
          "base_uri": "https://localhost:8080/"
        },
        "outputId": "1a119afc-c957-4ecf-e33a-a901082af580"
      },
      "id": "U2aYGBLyoULY",
      "execution_count": 41,
      "outputs": [
        {
          "output_type": "execute_result",
          "data": {
            "text/plain": [
              "array([[ 2,  3,  4,  5,  6],\n",
              "       [ 3,  4,  5,  6,  7],\n",
              "       [ 4,  5,  6,  7,  8],\n",
              "       [ 5,  6,  7,  8,  9],\n",
              "       [ 6,  7,  8,  9, 10]])"
            ]
          },
          "metadata": {},
          "execution_count": 41
        }
      ]
    },
    {
      "cell_type": "code",
      "source": [],
      "metadata": {
        "id": "nvgrTesdopRS"
      },
      "id": "nvgrTesdopRS",
      "execution_count": 37,
      "outputs": []
    }
  ],
  "metadata": {
    "colab": {
      "provenance": []
    },
    "kernelspec": {
      "display_name": "Python 3",
      "language": "python",
      "name": "python3"
    },
    "language_info": {
      "name": "python",
      "pygments_lexer": "ipython3"
    }
  },
  "nbformat": 4,
  "nbformat_minor": 5
}